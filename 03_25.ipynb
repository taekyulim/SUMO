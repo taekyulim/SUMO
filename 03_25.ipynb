{
 "cells": [
  {
   "cell_type": "code",
   "execution_count": 1,
   "metadata": {},
   "outputs": [],
   "source": [
    "from xml.etree.ElementTree import Element, ElementTree"
   ]
  },
  {
   "cell_type": "code",
   "execution_count": 3,
   "metadata": {},
   "outputs": [
    {
     "data": {
      "text/plain": [
       "[['11', '12', '13', '14', '15'],\n",
       " ['21', '22', '23', '24', '25'],\n",
       " ['31', '32', '33', '34', '35'],\n",
       " ['41', '42', '43', '44', '45'],\n",
       " ['51', '52', '53', '54', '55']]"
      ]
     },
     "execution_count": 3,
     "metadata": {},
     "output_type": "execute_result"
    }
   ],
   "source": [
    "a = [[f\"{i+1}{j+1}\" for j in range(5)] for i in range(5)]\n",
    "a"
   ]
  },
  {
   "cell_type": "code",
   "execution_count": 4,
   "metadata": {},
   "outputs": [
    {
     "data": {
      "text/plain": [
       "5"
      ]
     },
     "execution_count": 4,
     "metadata": {},
     "output_type": "execute_result"
    }
   ],
   "source": [
    "len(a)"
   ]
  },
  {
   "cell_type": "code",
   "execution_count": 14,
   "metadata": {},
   "outputs": [
    {
     "data": {
      "text/plain": [
       "[('11', '12'),\n",
       " ('12', '11'),\n",
       " ('11', '21'),\n",
       " ('21', '11'),\n",
       " ('12', '13'),\n",
       " ('13', '12'),\n",
       " ('12', '22'),\n",
       " ('22', '12'),\n",
       " ('13', '14'),\n",
       " ('14', '13'),\n",
       " ('13', '23'),\n",
       " ('23', '13'),\n",
       " ('14', '15'),\n",
       " ('15', '14'),\n",
       " ('14', '24'),\n",
       " ('24', '14'),\n",
       " ('15', '25'),\n",
       " ('25', '15'),\n",
       " ('21', '22'),\n",
       " ('22', '21'),\n",
       " ('21', '31'),\n",
       " ('31', '21'),\n",
       " ('22', '23'),\n",
       " ('23', '22'),\n",
       " ('22', '32'),\n",
       " ('32', '22'),\n",
       " ('23', '24'),\n",
       " ('24', '23'),\n",
       " ('23', '33'),\n",
       " ('33', '23'),\n",
       " ('24', '25'),\n",
       " ('25', '24'),\n",
       " ('24', '34'),\n",
       " ('34', '24'),\n",
       " ('25', '35'),\n",
       " ('35', '25'),\n",
       " ('31', '32'),\n",
       " ('32', '31'),\n",
       " ('31', '41'),\n",
       " ('41', '31'),\n",
       " ('32', '33'),\n",
       " ('33', '32'),\n",
       " ('32', '42'),\n",
       " ('42', '32'),\n",
       " ('33', '34'),\n",
       " ('34', '33'),\n",
       " ('33', '43'),\n",
       " ('43', '33'),\n",
       " ('34', '35'),\n",
       " ('35', '34'),\n",
       " ('34', '44'),\n",
       " ('44', '34'),\n",
       " ('35', '45'),\n",
       " ('45', '35'),\n",
       " ('41', '42'),\n",
       " ('42', '41'),\n",
       " ('41', '51'),\n",
       " ('51', '41'),\n",
       " ('42', '43'),\n",
       " ('43', '42'),\n",
       " ('42', '52'),\n",
       " ('52', '42'),\n",
       " ('43', '44'),\n",
       " ('44', '43'),\n",
       " ('43', '53'),\n",
       " ('53', '43'),\n",
       " ('44', '45'),\n",
       " ('45', '44'),\n",
       " ('44', '54'),\n",
       " ('54', '44'),\n",
       " ('45', '55'),\n",
       " ('55', '45'),\n",
       " ('51', '52'),\n",
       " ('52', '51'),\n",
       " ('52', '53'),\n",
       " ('53', '52'),\n",
       " ('53', '54'),\n",
       " ('54', '53'),\n",
       " ('54', '55'),\n",
       " ('55', '54')]"
      ]
     },
     "execution_count": 14,
     "metadata": {},
     "output_type": "execute_result"
    }
   ],
   "source": [
    "import numpy as np\n",
    "def create_vertices(grid_array):\n",
    "    vertices = []\n",
    "    numpy_array = np.array(grid_array)\n",
    "\n",
    "    rows, cols = len(numpy_array), len(numpy_array[0])\n",
    "    for i in range(rows):\n",
    "        for j in range(cols):\n",
    "            current_cell = numpy_array[i, j]\n",
    "\n",
    "            # Connect to the right cell\n",
    "            if j < cols - 1:\n",
    "                right_cell = numpy_array[i, j + 1]\n",
    "                vertices.append((current_cell, right_cell))\n",
    "                vertices.append((right_cell, current_cell))\n",
    "\n",
    "            # Connect to the bottom cell\n",
    "            if i < rows - 1:\n",
    "                bottom_cell = numpy_array[i + 1, j]\n",
    "                vertices.append((current_cell, bottom_cell))\n",
    "                vertices.append((bottom_cell, current_cell))\n",
    "\n",
    "    return vertices\n",
    "\n",
    "# Create bidirectional vertices\n",
    "vertices = create_vertices(a)\n",
    "\n",
    "vertices\n"
   ]
  },
  {
   "cell_type": "code",
   "execution_count": 21,
   "metadata": {},
   "outputs": [],
   "source": [
    "def create_edge_tag(start, end):\n",
    "    attrib = {\n",
    "        \"from\" : start,\n",
    "        \"to\" : end,\n",
    "        \"id\" : f\"{start}to{end}\",\n",
    "        \"type\": \"normal\"\n",
    "    }\n",
    "    root = Element(\"edge\", attrib=attrib)\n",
    "    return root\n",
    "def indent(elem, level=0):\n",
    "    i = \"\\n\" + level*\"  \"\n",
    "    if len(elem):\n",
    "        if not elem.text or not elem.text.strip():\n",
    "            elem.text = i + \"  \"\n",
    "        if not elem.tail or not elem.tail.strip():\n",
    "            elem.tail = i\n",
    "        for elem in elem:\n",
    "            indent(elem, level+1)\n",
    "        if not elem.tail or not elem.tail.strip():\n",
    "            elem.tail = i\n",
    "    else:\n",
    "        if level and (not elem.tail or not elem.tail.strip()):\n",
    "            elem.tail = i\n",
    "            \n",
    "def generate_edge_xml(num_grid):\n",
    "    root = Element(\"edges\")\n",
    "    nodes_list = [[f\"n{i+1}{j+1}\" for j in range(num_grid)] for i in range(num_grid)]\n",
    "    vertices = create_vertices(nodes_list)\n",
    "    for vertex in vertices:\n",
    "        start = vertex[0]\n",
    "        end = vertex[1]\n",
    "        edge_tag = create_edge_tag(start, end)\n",
    "        root.append(edge_tag)\n",
    "    indent(root)\n",
    "    tree = ElementTree(root)\n",
    "    file_name = \"filab.edg.xml\"\n",
    "    tree.write(file_name, encoding='utf-8', xml_declaration=True)\n",
    "        \n",
    "        "
   ]
  },
  {
   "cell_type": "code",
   "execution_count": 22,
   "metadata": {},
   "outputs": [],
   "source": [
    "generate_edge_xml(5)"
   ]
  },
  {
   "cell_type": "code",
   "execution_count": 43,
   "metadata": {},
   "outputs": [],
   "source": [
    "def calculate_interval_points(total_length, num_intervals):\n",
    "    # Calculate the step size between intervals\n",
    "    step = total_length / num_intervals\n",
    "\n",
    "    # Initialize the starting point\n",
    "    start = -total_length / 2\n",
    "\n",
    "    # Calculate the interval points\n",
    "    interval_points = [start + i * step for i in range(num_intervals + 1)]\n",
    "\n",
    "    return interval_points\n",
    "def make_node_tag(h, v, x_grid, y_grid):\n",
    "    attrib = {\n",
    "        \"id\" : f'n{v+1}{h+1}',\n",
    "        \"x\" : f\"{x_grid[h]}\",\n",
    "        \"y\" : f\"{y_grid[v]}\",\n",
    "        \"type\" : \"traffic_light\"\n",
    "    }\n",
    "    root = Element(\"node\", attrib=attrib)\n",
    "    return root\n",
    "            \n",
    "def make_node_xml(total_width, num_width_interval, total_height, num_height_interval):\n",
    "    root = Element(\"nodes\")\n",
    "    x_grid = calculate_interval_points(total_width, num_width_interval)\n",
    "    y_grid = list(reversed(calculate_interval_points(total_height, num_height_interval)))\n",
    "    for h in range(len(x_grid)):\n",
    "        for v in range(len(y_grid)):\n",
    "            node_tag = make_node_tag(h, v, x_grid, y_grid)\n",
    "            root.append(node_tag)\n",
    "    indent(root)\n",
    "    tree = ElementTree(root)\n",
    "    file_name = \"filab.nod.xml\"\n",
    "    tree.write(file_name, encoding=\"utf-8\", xml_declaration=True)"
   ]
  },
  {
   "cell_type": "code",
   "execution_count": 44,
   "metadata": {},
   "outputs": [],
   "source": [
    "def calculate_interval_points(total_length, num_intervals):\n",
    "    # Calculate the step size between intervals\n",
    "    step = total_length / num_intervals\n",
    "\n",
    "    # Initialize the starting point\n",
    "    start = -total_length / 2\n",
    "\n",
    "    # Calculate the interval points\n",
    "    interval_points = [start + i * step for i in range(num_intervals + 1)]\n",
    "\n",
    "    return interval_points"
   ]
  },
  {
   "cell_type": "code",
   "execution_count": 45,
   "metadata": {},
   "outputs": [],
   "source": [
    "a = calculate_interval_points(2000, 4)\n",
    "a.reverse()"
   ]
  },
  {
   "cell_type": "code",
   "execution_count": 46,
   "metadata": {},
   "outputs": [
    {
     "data": {
      "text/plain": [
       "[1000.0, 500.0, 0.0, -500.0, -1000.0]"
      ]
     },
     "execution_count": 46,
     "metadata": {},
     "output_type": "execute_result"
    }
   ],
   "source": [
    "a"
   ]
  },
  {
   "cell_type": "code",
   "execution_count": 47,
   "metadata": {},
   "outputs": [],
   "source": [
    "make_node_xml(2000, 4, 2000, 4)"
   ]
  },
  {
   "cell_type": "code",
   "execution_count": null,
   "metadata": {},
   "outputs": [],
   "source": [
    "def generate_edge_xml(num_width_interval, num_height_interval):\n",
    "    root = Element(\"edges\")\n",
    "    nodes_list = [[f\"n{i+1}{j+1}\" for j in range(num_height_interval)] for i in range(num_width_interval)]\n",
    "    vertices = create_vertices(nodes_list)\n",
    "    for vertex in vertices:\n",
    "        start = vertex[0]\n",
    "        end = vertex[1]\n",
    "        edge_tag = create_edge_tag(start, end)\n",
    "        root.append(edge_tag)\n",
    "    indent(root)\n",
    "    tree = ElementTree(root)\n",
    "    file_name = \"filab.edg.xml\"\n",
    "    tree.write(file_name, encoding='utf-8', xml_declaration=True)"
   ]
  }
 ],
 "metadata": {
  "kernelspec": {
   "display_name": "Python 3",
   "language": "python",
   "name": "python3"
  },
  "language_info": {
   "codemirror_mode": {
    "name": "ipython",
    "version": 3
   },
   "file_extension": ".py",
   "mimetype": "text/x-python",
   "name": "python",
   "nbconvert_exporter": "python",
   "pygments_lexer": "ipython3",
   "version": "3.10.6"
  },
  "orig_nbformat": 4
 },
 "nbformat": 4,
 "nbformat_minor": 2
}
