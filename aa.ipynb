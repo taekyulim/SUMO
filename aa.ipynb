{
 "cells": [
  {
   "cell_type": "code",
   "execution_count": 1,
   "metadata": {},
   "outputs": [],
   "source": [
    "from traffic_generate import _pretty_print"
   ]
  },
  {
   "cell_type": "code",
   "execution_count": 2,
   "metadata": {},
   "outputs": [],
   "source": [
    "from traffic_generate import make_traffic_volume"
   ]
  },
  {
   "cell_type": "code",
   "execution_count": 28,
   "metadata": {},
   "outputs": [],
   "source": [
    "node = {\n",
    "    \"a\" : {\n",
    "            \"straight\" : \"b\",\n",
    "            \"left\" : \"c\",\n",
    "            \"right\" : \"d\"\n",
    "        } # straight, left, right\n",
    "}"
   ]
  },
  {
   "cell_type": "code",
   "execution_count": 29,
   "metadata": {},
   "outputs": [
    {
     "data": {
      "text/plain": [
       "'b'"
      ]
     },
     "execution_count": 29,
     "metadata": {},
     "output_type": "execute_result"
    }
   ],
   "source": [
    "node[\"a\"][\"straight\"]"
   ]
  },
  {
   "cell_type": "code",
   "execution_count": 4,
   "metadata": {},
   "outputs": [
    {
     "data": {
      "text/plain": [
       "{'a b': 846, 'a c': 286, 'a d': 255}"
      ]
     },
     "execution_count": 4,
     "metadata": {},
     "output_type": "execute_result"
    }
   ],
   "source": [
    "make_traffic_volume(node, 3, 15)"
   ]
  },
  {
   "cell_type": "code",
   "execution_count": 9,
   "metadata": {},
   "outputs": [],
   "source": [
    "from xml.etree.ElementTree import Element, SubElement, ElementTree, dump"
   ]
  },
  {
   "cell_type": "code",
   "execution_count": 3,
   "metadata": {},
   "outputs": [],
   "source": [
    "def indent(elem, level=0):\n",
    "    i = \"\\n\" + level*\"  \"\n",
    "    if len(elem):\n",
    "        if not elem.text or not elem.text.strip():\n",
    "            elem.text = i + \"  \"\n",
    "        if not elem.tail or not elem.tail.strip():\n",
    "            elem.tail = i\n",
    "        for elem in elem:\n",
    "            indent(elem, level+1)\n",
    "        if not elem.tail or not elem.tail.strip():\n",
    "            elem.tail = i\n",
    "    else:\n",
    "        if level and (not elem.tail or not elem.tail.strip()):\n",
    "            elem.tail = i"
   ]
  },
  {
   "cell_type": "code",
   "execution_count": 26,
   "metadata": {},
   "outputs": [],
   "source": [
    "root = Element(\"routes\")\n",
    "vType = Element(\"vType\")\n",
    "vType.set(\"accel\", \"1.0\")\n",
    "vType.set(\"decel\", \"5.0\")\n",
    "vType.set(\"id\",\"Car\")\n",
    "vType.set(\"length\", \"2.0\")\n",
    "vType.set(\"maxSpeed\", \"70.0\")\n",
    "vType.set(\"sigma\", \"0.0\")\n",
    "root.append(vType)\n",
    "\n",
    "straight = Element(\"route\")\n",
    "straight.set(\"id\", \"straight\")\n",
    "straight.set(\"edges\", \"\")\n",
    "\n",
    "indent(root)\n",
    "\n",
    "tree = ElementTree(root)"
   ]
  },
  {
   "cell_type": "code",
   "execution_count": 31,
   "metadata": {},
   "outputs": [],
   "source": [
    "def generate_edge_xml(center, straight, left, right):\n",
    "    root = Element(\"edges\")\n",
    "    st_route = Element(\"edge\")\n",
    "    st_route.set(\"from\", center)\n",
    "    st_route.set(\"to\", straight)\n",
    "    st_route.set(\"id\", \"straight\")\n",
    "    st_route.set(\"type\", \"normal\")\n",
    "    root.append(st_route)\n",
    "    \n",
    "    le_route = Element(\"edge\")\n",
    "    le_route.set(\"from\", center)\n",
    "    le_route.set(\"to\", left)\n",
    "    le_route.set(\"id\", \"left\")\n",
    "    le_route.set(\"type\", \"normal\")\n",
    "    root.append(le_route)\n",
    "    \n",
    "    ri_route = Element(\"edge\")\n",
    "    ri_route.set(\"from\", center)\n",
    "    ri_route.set(\"to\", right)\n",
    "    ri_route.set(\"id\", \"right\")\n",
    "    ri_route.set(\"type\", \"normal\")\n",
    "    root.append(ri_route)\n",
    "    \n",
    "    indent(root)\n",
    "    tree = ElementTree(root)\n",
    "    file_name = f\"{center}.edg.xml\"\n",
    "    with open(file_name, \"wb\") as file:\n",
    "        tree.write(file, encoding=\"utf-8\", xml_declaration=True)"
   ]
  },
  {
   "cell_type": "code",
   "execution_count": 32,
   "metadata": {},
   "outputs": [],
   "source": [
    "generate_edge_xml(\"a\", \"b\", \"c\", \"d\")"
   ]
  },
  {
   "cell_type": "code",
   "execution_count": 35,
   "metadata": {},
   "outputs": [],
   "source": [
    "x_grid = [-1000, -500, 0, 500, 1000]\n",
    "y_grid = [1000, 500, 0, -500, -1000]"
   ]
  },
  {
   "cell_type": "code",
   "execution_count": 41,
   "metadata": {},
   "outputs": [],
   "source": [
    "def make_node_tag(h, v, x_grid, y_grid):\n",
    "    attrib = {\n",
    "        \"id\" : f'n{v+1}{h+1}',\n",
    "        \"x\" : f\"{x_grid[h]}\",\n",
    "        \"y\" : f\"{y_grid[v]}\",\n",
    "        \"type\" : \"traffic_light\"\n",
    "    }\n",
    "    root = Element(\"node\", attrib=attrib)\n",
    "    return root\n",
    "    "
   ]
  },
  {
   "cell_type": "code",
   "execution_count": 42,
   "metadata": {},
   "outputs": [],
   "source": [
    "def make_node_xml(x_grid, y_grid):\n",
    "    root = Element(\"nodes\")\n",
    "    for h in range(len(x_grid)):\n",
    "        for v in range(len(y_grid)):\n",
    "            node_tag = make_node_tag(h, v, x_grid, y_grid)\n",
    "            root.append(node_tag)\n",
    "    indent(root)\n",
    "    tree = ElementTree(root)\n",
    "    file_name = \"filab.edg.xml\"\n",
    "    with open(file_name, \"wb\") as file:\n",
    "        tree.write(file, encoding=\"utf-8\", xml_declaration=True)"
   ]
  },
  {
   "cell_type": "code",
   "execution_count": 43,
   "metadata": {},
   "outputs": [],
   "source": [
    "make_node_xml(x_grid, y_grid)"
   ]
  },
  {
   "cell_type": "code",
   "execution_count": null,
   "metadata": {},
   "outputs": [],
   "source": []
  }
 ],
 "metadata": {
  "kernelspec": {
   "display_name": "Python 3",
   "language": "python",
   "name": "python3"
  },
  "language_info": {
   "codemirror_mode": {
    "name": "ipython",
    "version": 3
   },
   "file_extension": ".py",
   "mimetype": "text/x-python",
   "name": "python",
   "nbconvert_exporter": "python",
   "pygments_lexer": "ipython3",
   "version": "3.10.6"
  },
  "orig_nbformat": 4
 },
 "nbformat": 4,
 "nbformat_minor": 2
}
